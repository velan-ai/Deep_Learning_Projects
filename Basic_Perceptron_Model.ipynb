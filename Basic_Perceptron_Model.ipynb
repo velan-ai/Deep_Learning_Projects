{
  "nbformat": 4,
  "nbformat_minor": 0,
  "metadata": {
    "colab": {
      "provenance": [],
      "gpuType": "T4"
    },
    "kernelspec": {
      "name": "python3",
      "display_name": "Python 3"
    },
    "language_info": {
      "name": "python"
    },
    "accelerator": "GPU"
  },
  "cells": [
    {
      "cell_type": "markdown",
      "source": [
        "#NEURONS AND PERCEPTRONS\n",
        "\n",
        "It is the basic understanding of perceptron"
      ],
      "metadata": {
        "id": "HhOeYAv2CBy3"
      }
    },
    {
      "cell_type": "code",
      "execution_count": 1,
      "metadata": {
        "id": "yHt76M7kCBTb"
      },
      "outputs": [],
      "source": [
        "#IMPORTING LIBRARIES\n",
        "import numpy as np\n",
        "import pandas as pd\n",
        "from numpy import random, dot, exp, array, tanh\n",
        "from random import choice"
      ]
    },
    {
      "cell_type": "markdown",
      "source": [
        "#Activation Function"
      ],
      "metadata": {
        "id": "Tn_a7plrKHKh"
      }
    },
    {
      "cell_type": "code",
      "source": [
        "activation_fn = lambda x: 0 if x < 0 else 1 # tells that if input is negative the o/p is 0 else 1"
      ],
      "metadata": {
        "id": "UdnuMkeZKLAY"
      },
      "execution_count": 2,
      "outputs": []
    },
    {
      "cell_type": "markdown",
      "source": [
        "#Initializing Dataset"
      ],
      "metadata": {
        "id": "HENUVLGSKpwq"
      }
    },
    {
      "cell_type": "code",
      "source": [
        "data_set=[\n",
        "    ((array([0,0,1])), 0), #    (array([x,y,b]), e) --> (x,y) = Inputs; b = bias; e = Expected o/p for validation\n",
        "    ((array([0,1,1])), 1),\n",
        "    ((array([1,0,1])), 1),\n",
        "    ((array([1,1,1])), 1)\n",
        "]\n",
        "print(data_set)"
      ],
      "metadata": {
        "colab": {
          "base_uri": "https://localhost:8080/"
        },
        "id": "Pfq8mHvYKuiv",
        "outputId": "07cc8a33-3a74-4e99-9e29-e1529bdd5aa6"
      },
      "execution_count": 3,
      "outputs": [
        {
          "output_type": "stream",
          "name": "stdout",
          "text": [
            "[(array([0, 0, 1]), 0), (array([0, 1, 1]), 1), (array([1, 0, 1]), 1), (array([1, 1, 1]), 1)]\n"
          ]
        }
      ]
    },
    {
      "cell_type": "markdown",
      "source": [
        "#WEIGHTS"
      ],
      "metadata": {
        "id": "fm3vCSL5iFIx"
      }
    },
    {
      "cell_type": "code",
      "source": [
        "weights = random.rand(3)\n",
        "weights"
      ],
      "metadata": {
        "colab": {
          "base_uri": "https://localhost:8080/"
        },
        "id": "_gr2HMGWiEm6",
        "outputId": "d26165b6-4216-468a-a991-31e114453cfd"
      },
      "execution_count": 4,
      "outputs": [
        {
          "output_type": "execute_result",
          "data": {
            "text/plain": [
              "array([0.76043808, 0.67491155, 0.39397852])"
            ]
          },
          "metadata": {},
          "execution_count": 4
        }
      ]
    },
    {
      "cell_type": "markdown",
      "source": [
        "#Initializing Additional variables"
      ],
      "metadata": {
        "id": "6pitbeWDjADr"
      }
    },
    {
      "cell_type": "code",
      "source": [
        "r = 0.2 # learning rate\n",
        "n = 100  # number of iteration"
      ],
      "metadata": {
        "id": "Oj9_XuuTi_w8"
      },
      "execution_count": 5,
      "outputs": []
    },
    {
      "cell_type": "markdown",
      "source": [
        "# Training the Model"
      ],
      "metadata": {
        "id": "w-sAx_KDjqC6"
      }
    },
    {
      "cell_type": "code",
      "source": [
        "for j in range(n):\n",
        "  x,expected = choice(data_set)\n",
        "  res = dot(weights , x)\n",
        "  err = expected - activation_fn(res)\n",
        "  weights += r * err * x        # Calculating the correction factor"
      ],
      "metadata": {
        "id": "8BGA533fjxBa"
      },
      "execution_count": 6,
      "outputs": []
    },
    {
      "cell_type": "markdown",
      "source": [
        "#Evaluating the model\n",
        "\n"
      ],
      "metadata": {
        "id": "zhQ1R8IbKOPn"
      }
    },
    {
      "cell_type": "code",
      "source": [
        "for x , _ in data_set:\n",
        "  res = dot(x, weights)\n",
        "  print(\"Input {}: Result_Before_AF {} -> ResultAf {}\".format(x[:2], round(res,3), activation_fn(res)))"
      ],
      "metadata": {
        "colab": {
          "base_uri": "https://localhost:8080/"
        },
        "id": "EQwbenC2KWee",
        "outputId": "2318932c-2455-4989-b6db-8bb376f31bd6"
      },
      "execution_count": 9,
      "outputs": [
        {
          "output_type": "stream",
          "name": "stdout",
          "text": [
            "Input [0 0]: ResultBAF -0.006 -> ResultAf 0\n",
            "Input [0 1]: ResultBAF 0.669 -> ResultAf 1\n",
            "Input [1 0]: ResultBAF 0.754 -> ResultAf 1\n",
            "Input [1 1]: ResultBAF 1.429 -> ResultAf 1\n"
          ]
        }
      ]
    }
  ]
}